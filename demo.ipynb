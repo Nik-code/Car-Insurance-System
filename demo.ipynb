{
 "cells": [
  {
   "metadata": {},
   "cell_type": "markdown",
   "source": [
    "# Car Insurance Management System Demo\n",
    "\n",
    "This notebook demonstrates the functionality of the Car Insurance Management System. We'll go through each of the main operations: adding, updating, deleting, and querying records."
   ],
   "id": "a00eebd0083f8c9"
  },
  {
   "metadata": {},
   "cell_type": "code",
   "source": [
    "import mysql.connector\n",
    "\n",
    "# Establish a connection to the database\n",
    "mydb = mysql.connector.connect(\n",
    "    host=\"localhost\",\n",
    "    user=\"your_username\",\n",
    "    password=\"your_password\",\n",
    "    database=\"your_database_name\"\n",
    ")\n",
    "\n",
    "# Create a cursor object to execute queries\n",
    "mycursor = mydb.cursor()"
   ],
   "id": "4effb28c823a9ed9",
   "outputs": [],
   "execution_count": null
  },
  {
   "metadata": {},
   "cell_type": "markdown",
   "source": "## 1. Adding a New Record",
   "id": "c8ba1c2a97410ebe"
  },
  {
   "cell_type": "code",
   "execution_count": null,
   "id": "initial_id",
   "metadata": {
    "collapsed": true
   },
   "outputs": [],
   "source": [
    "def add_record(table_name, values):\n",
    "    placeholders = ', '.join(['%s'] * len(values))\n",
    "    query = f\"INSERT INTO {table_name} VALUES ({placeholders})\"\n",
    "    mycursor.execute(query, values)\n",
    "    mydb.commit()\n",
    "    print(f\"New record added to {table_name}!\")\n",
    "\n",
    "# Example: Adding a new car\n",
    "add_record('CAR', (6, 'CH006', 'EN006', 'Tesla', 'Model 3', 2023))"
   ]
  },
  {
   "metadata": {},
   "cell_type": "markdown",
   "source": "## 2. Updating an Existing Record",
   "id": "2fa7b41d55682aad"
  },
  {
   "metadata": {},
   "cell_type": "code",
   "outputs": [],
   "execution_count": null,
   "source": [
    "def update_record(table_name, pk_name, pk_value, update_dict):\n",
    "    set_clause = ', '.join([f\"{k} = %s\" for k in update_dict.keys()])\n",
    "    query = f\"UPDATE {table_name} SET {set_clause} WHERE {pk_name} = %s\"\n",
    "    values = list(update_dict.values()) + [pk_value]\n",
    "    mycursor.execute(query, values)\n",
    "    mydb.commit()\n",
    "    print(f\"Record with {pk_name} {pk_value} updated in {table_name}!\")\n",
    "\n",
    "# Example: Updating a car's model\n",
    "update_record('CAR', 'car_id', 6, {'model': 'Model S'})"
   ],
   "id": "4e36b66c89297ffe"
  },
  {
   "metadata": {},
   "cell_type": "markdown",
   "source": "## 3. Deleting a Record",
   "id": "6c38f58567b82523"
  },
  {
   "metadata": {},
   "cell_type": "code",
   "outputs": [],
   "execution_count": null,
   "source": [
    "def delete_record(table_name, pk_name, pk_value):\n",
    "    query = f\"DELETE FROM {table_name} WHERE {pk_name} = %s\"\n",
    "    mycursor.execute(query, (pk_value,))\n",
    "    mydb.commit()\n",
    "    print(f\"Record with {pk_name} {pk_value} deleted from {table_name}!\")\n",
    "\n",
    "# Example: Deleting a car\n",
    "delete_record('CAR', 'car_id', 6)"
   ],
   "id": "52686c52f0204efc"
  },
  {
   "metadata": {},
   "cell_type": "markdown",
   "source": "## 4. Querying Records",
   "id": "f9876c9a5e5de84b"
  },
  {
   "metadata": {},
   "cell_type": "code",
   "outputs": [],
   "execution_count": null,
   "source": [
    "def query_records(query):\n",
    "    mycursor.execute(query)\n",
    "    results = mycursor.fetchall()\n",
    "    for row in results:\n",
    "        print(row)\n",
    "\n",
    "# Example: Querying all cars\n",
    "query_records(\"SELECT * FROM CAR\")\n",
    "\n",
    "# Example: More complex query joining multiple tables\n",
    "complex_query = \"\"\"\n",
    "SELECT c.make, c.model, o.name AS owner, p.policy_id, p.start_date, p.end_date\n",
    "FROM CAR c\n",
    "JOIN OWNER o ON c.car_id = o.car_id\n",
    "JOIN POLICY p ON c.car_id = p.car_id\n",
    "\"\"\"\n",
    "query_records(complex_query)"
   ],
   "id": "b6c922218f393c00"
  },
  {
   "metadata": {},
   "cell_type": "markdown",
   "source": "## 5. Demonstrating a Full Workflow",
   "id": "61a3ff56c051858e"
  },
  {
   "metadata": {},
   "cell_type": "code",
   "outputs": [],
   "execution_count": null,
   "source": [
    "# 1. Add a new car\n",
    "add_record('CAR', (7, 'CH007', 'EN007', 'Audi', 'A4', 2023))\n",
    "\n",
    "# 2. Add a new owner for this car\n",
    "add_record('OWNER', (6, 7, 'Eva Green', '987 Cedar St, Sometown, ST 45678', '555-4321'))\n",
    "\n",
    "# 3. Create a new policy for this car and owner\n",
    "add_record('POLICY', ('POL006', 7, 6, '2023-09-01', '2024-09-01'))\n",
    "\n",
    "# 4. Query to verify the new entries\n",
    "query_records(\"\"\"\n",
    "SELECT c.make, c.model, o.name AS owner, p.policy_id, p.start_date, p.end_date\n",
    "FROM CAR c\n",
    "JOIN OWNER o ON c.car_id = o.car_id\n",
    "JOIN POLICY p ON c.car_id = p.car_id\n",
    "WHERE c.car_id = 7\n",
    "\"\"\")\n",
    "\n",
    "# 5. Update the policy end date\n",
    "update_record('POLICY', 'policy_id', 'POL006', {'end_date': '2024-12-31'})\n",
    "\n",
    "# 6. Verify the update\n",
    "query_records(\"SELECT * FROM POLICY WHERE policy_id = 'POL006'\")"
   ],
   "id": "6508c8135d63533e"
  },
  {
   "metadata": {},
   "cell_type": "markdown",
   "source": "This notebook demonstrates the basic CRUD (Create, Read, Update, Delete) operations of the Car Insurance Management System. It shows how to interact with the database to manage car, owner, and policy information. You can expand on this demo by adding more complex queries or demonstrating other features of your system.",
   "id": "ffff4a5b629b1ea0"
  }
 ],
 "metadata": {
  "kernelspec": {
   "display_name": "Python 3",
   "language": "python",
   "name": "python3"
  },
  "language_info": {
   "codemirror_mode": {
    "name": "ipython",
    "version": 2
   },
   "file_extension": ".py",
   "mimetype": "text/x-python",
   "name": "python",
   "nbconvert_exporter": "python",
   "pygments_lexer": "ipython2",
   "version": "2.7.6"
  }
 },
 "nbformat": 4,
 "nbformat_minor": 5
}
